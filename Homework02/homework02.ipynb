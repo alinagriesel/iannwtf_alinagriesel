{
  "nbformat": 4,
  "nbformat_minor": 0,
  "metadata": {
    "colab": {
      "provenance": [],
      "gpuType": "T4"
    },
    "kernelspec": {
      "name": "python3",
      "display_name": "Python 3"
    },
    "language_info": {
      "name": "python"
    },
    "accelerator": "GPU",
    "widgets": {
      "application/vnd.jupyter.widget-state+json": {
        "9e397866e3f34fc9b51a7d7b16142625": {
          "model_module": "@jupyter-widgets/controls",
          "model_name": "HBoxModel",
          "model_module_version": "1.5.0",
          "state": {
            "_dom_classes": [],
            "_model_module": "@jupyter-widgets/controls",
            "_model_module_version": "1.5.0",
            "_model_name": "HBoxModel",
            "_view_count": null,
            "_view_module": "@jupyter-widgets/controls",
            "_view_module_version": "1.5.0",
            "_view_name": "HBoxView",
            "box_style": "",
            "children": [
              "IPY_MODEL_1f92025ba9c548779192fe747fb954bd",
              "IPY_MODEL_17df0f9b31ac4b47a2be7628ccd7e157",
              "IPY_MODEL_93759c9b9145428396a7ed7dc4186a84"
            ],
            "layout": "IPY_MODEL_5d53fc6859be419b81b42baecff5e058"
          }
        },
        "1f92025ba9c548779192fe747fb954bd": {
          "model_module": "@jupyter-widgets/controls",
          "model_name": "HTMLModel",
          "model_module_version": "1.5.0",
          "state": {
            "_dom_classes": [],
            "_model_module": "@jupyter-widgets/controls",
            "_model_module_version": "1.5.0",
            "_model_name": "HTMLModel",
            "_view_count": null,
            "_view_module": "@jupyter-widgets/controls",
            "_view_module_version": "1.5.0",
            "_view_name": "HTMLView",
            "description": "",
            "description_tooltip": null,
            "layout": "IPY_MODEL_88320c9d666c43e3a4cdf9b659b195e2",
            "placeholder": "​",
            "style": "IPY_MODEL_5f88544f85a24af7811c4eca856da65b",
            "value": "Dl Completed...: 100%"
          }
        },
        "17df0f9b31ac4b47a2be7628ccd7e157": {
          "model_module": "@jupyter-widgets/controls",
          "model_name": "FloatProgressModel",
          "model_module_version": "1.5.0",
          "state": {
            "_dom_classes": [],
            "_model_module": "@jupyter-widgets/controls",
            "_model_module_version": "1.5.0",
            "_model_name": "FloatProgressModel",
            "_view_count": null,
            "_view_module": "@jupyter-widgets/controls",
            "_view_module_version": "1.5.0",
            "_view_name": "ProgressView",
            "bar_style": "success",
            "description": "",
            "description_tooltip": null,
            "layout": "IPY_MODEL_475d1b2f9e2a4657ace8b1b82175691b",
            "max": 5,
            "min": 0,
            "orientation": "horizontal",
            "style": "IPY_MODEL_8e0b8241fd4f43b0896d0c22c36367be",
            "value": 5
          }
        },
        "93759c9b9145428396a7ed7dc4186a84": {
          "model_module": "@jupyter-widgets/controls",
          "model_name": "HTMLModel",
          "model_module_version": "1.5.0",
          "state": {
            "_dom_classes": [],
            "_model_module": "@jupyter-widgets/controls",
            "_model_module_version": "1.5.0",
            "_model_name": "HTMLModel",
            "_view_count": null,
            "_view_module": "@jupyter-widgets/controls",
            "_view_module_version": "1.5.0",
            "_view_name": "HTMLView",
            "description": "",
            "description_tooltip": null,
            "layout": "IPY_MODEL_fdd757d4dee14ec38a9deef654ce0255",
            "placeholder": "​",
            "style": "IPY_MODEL_274c75fb5c38455c89be3765fc42da7d",
            "value": " 5/5 [00:02&lt;00:00,  2.09 file/s]"
          }
        },
        "5d53fc6859be419b81b42baecff5e058": {
          "model_module": "@jupyter-widgets/base",
          "model_name": "LayoutModel",
          "model_module_version": "1.2.0",
          "state": {
            "_model_module": "@jupyter-widgets/base",
            "_model_module_version": "1.2.0",
            "_model_name": "LayoutModel",
            "_view_count": null,
            "_view_module": "@jupyter-widgets/base",
            "_view_module_version": "1.2.0",
            "_view_name": "LayoutView",
            "align_content": null,
            "align_items": null,
            "align_self": null,
            "border": null,
            "bottom": null,
            "display": null,
            "flex": null,
            "flex_flow": null,
            "grid_area": null,
            "grid_auto_columns": null,
            "grid_auto_flow": null,
            "grid_auto_rows": null,
            "grid_column": null,
            "grid_gap": null,
            "grid_row": null,
            "grid_template_areas": null,
            "grid_template_columns": null,
            "grid_template_rows": null,
            "height": null,
            "justify_content": null,
            "justify_items": null,
            "left": null,
            "margin": null,
            "max_height": null,
            "max_width": null,
            "min_height": null,
            "min_width": null,
            "object_fit": null,
            "object_position": null,
            "order": null,
            "overflow": null,
            "overflow_x": null,
            "overflow_y": null,
            "padding": null,
            "right": null,
            "top": null,
            "visibility": null,
            "width": null
          }
        },
        "88320c9d666c43e3a4cdf9b659b195e2": {
          "model_module": "@jupyter-widgets/base",
          "model_name": "LayoutModel",
          "model_module_version": "1.2.0",
          "state": {
            "_model_module": "@jupyter-widgets/base",
            "_model_module_version": "1.2.0",
            "_model_name": "LayoutModel",
            "_view_count": null,
            "_view_module": "@jupyter-widgets/base",
            "_view_module_version": "1.2.0",
            "_view_name": "LayoutView",
            "align_content": null,
            "align_items": null,
            "align_self": null,
            "border": null,
            "bottom": null,
            "display": null,
            "flex": null,
            "flex_flow": null,
            "grid_area": null,
            "grid_auto_columns": null,
            "grid_auto_flow": null,
            "grid_auto_rows": null,
            "grid_column": null,
            "grid_gap": null,
            "grid_row": null,
            "grid_template_areas": null,
            "grid_template_columns": null,
            "grid_template_rows": null,
            "height": null,
            "justify_content": null,
            "justify_items": null,
            "left": null,
            "margin": null,
            "max_height": null,
            "max_width": null,
            "min_height": null,
            "min_width": null,
            "object_fit": null,
            "object_position": null,
            "order": null,
            "overflow": null,
            "overflow_x": null,
            "overflow_y": null,
            "padding": null,
            "right": null,
            "top": null,
            "visibility": null,
            "width": null
          }
        },
        "5f88544f85a24af7811c4eca856da65b": {
          "model_module": "@jupyter-widgets/controls",
          "model_name": "DescriptionStyleModel",
          "model_module_version": "1.5.0",
          "state": {
            "_model_module": "@jupyter-widgets/controls",
            "_model_module_version": "1.5.0",
            "_model_name": "DescriptionStyleModel",
            "_view_count": null,
            "_view_module": "@jupyter-widgets/base",
            "_view_module_version": "1.2.0",
            "_view_name": "StyleView",
            "description_width": ""
          }
        },
        "475d1b2f9e2a4657ace8b1b82175691b": {
          "model_module": "@jupyter-widgets/base",
          "model_name": "LayoutModel",
          "model_module_version": "1.2.0",
          "state": {
            "_model_module": "@jupyter-widgets/base",
            "_model_module_version": "1.2.0",
            "_model_name": "LayoutModel",
            "_view_count": null,
            "_view_module": "@jupyter-widgets/base",
            "_view_module_version": "1.2.0",
            "_view_name": "LayoutView",
            "align_content": null,
            "align_items": null,
            "align_self": null,
            "border": null,
            "bottom": null,
            "display": null,
            "flex": null,
            "flex_flow": null,
            "grid_area": null,
            "grid_auto_columns": null,
            "grid_auto_flow": null,
            "grid_auto_rows": null,
            "grid_column": null,
            "grid_gap": null,
            "grid_row": null,
            "grid_template_areas": null,
            "grid_template_columns": null,
            "grid_template_rows": null,
            "height": null,
            "justify_content": null,
            "justify_items": null,
            "left": null,
            "margin": null,
            "max_height": null,
            "max_width": null,
            "min_height": null,
            "min_width": null,
            "object_fit": null,
            "object_position": null,
            "order": null,
            "overflow": null,
            "overflow_x": null,
            "overflow_y": null,
            "padding": null,
            "right": null,
            "top": null,
            "visibility": null,
            "width": null
          }
        },
        "8e0b8241fd4f43b0896d0c22c36367be": {
          "model_module": "@jupyter-widgets/controls",
          "model_name": "ProgressStyleModel",
          "model_module_version": "1.5.0",
          "state": {
            "_model_module": "@jupyter-widgets/controls",
            "_model_module_version": "1.5.0",
            "_model_name": "ProgressStyleModel",
            "_view_count": null,
            "_view_module": "@jupyter-widgets/base",
            "_view_module_version": "1.2.0",
            "_view_name": "StyleView",
            "bar_color": null,
            "description_width": ""
          }
        },
        "fdd757d4dee14ec38a9deef654ce0255": {
          "model_module": "@jupyter-widgets/base",
          "model_name": "LayoutModel",
          "model_module_version": "1.2.0",
          "state": {
            "_model_module": "@jupyter-widgets/base",
            "_model_module_version": "1.2.0",
            "_model_name": "LayoutModel",
            "_view_count": null,
            "_view_module": "@jupyter-widgets/base",
            "_view_module_version": "1.2.0",
            "_view_name": "LayoutView",
            "align_content": null,
            "align_items": null,
            "align_self": null,
            "border": null,
            "bottom": null,
            "display": null,
            "flex": null,
            "flex_flow": null,
            "grid_area": null,
            "grid_auto_columns": null,
            "grid_auto_flow": null,
            "grid_auto_rows": null,
            "grid_column": null,
            "grid_gap": null,
            "grid_row": null,
            "grid_template_areas": null,
            "grid_template_columns": null,
            "grid_template_rows": null,
            "height": null,
            "justify_content": null,
            "justify_items": null,
            "left": null,
            "margin": null,
            "max_height": null,
            "max_width": null,
            "min_height": null,
            "min_width": null,
            "object_fit": null,
            "object_position": null,
            "order": null,
            "overflow": null,
            "overflow_x": null,
            "overflow_y": null,
            "padding": null,
            "right": null,
            "top": null,
            "visibility": null,
            "width": null
          }
        },
        "274c75fb5c38455c89be3765fc42da7d": {
          "model_module": "@jupyter-widgets/controls",
          "model_name": "DescriptionStyleModel",
          "model_module_version": "1.5.0",
          "state": {
            "_model_module": "@jupyter-widgets/controls",
            "_model_module_version": "1.5.0",
            "_model_name": "DescriptionStyleModel",
            "_view_count": null,
            "_view_module": "@jupyter-widgets/base",
            "_view_module_version": "1.2.0",
            "_view_name": "StyleView",
            "description_width": ""
          }
        }
      }
    }
  },
  "cells": [
    {
      "cell_type": "markdown",
      "source": [
        "# **Homework 2**\n",
        "\n",
        "## **2.1 Loading the MNIST dataset**"
      ],
      "metadata": {
        "id": "EesVwpYBNM6O"
      }
    },
    {
      "cell_type": "code",
      "execution_count": null,
      "metadata": {
        "id": "Re-uBgZiE4Lm"
      },
      "outputs": [],
      "source": [
        "import tensorflow_datasets as tfds\n",
        "import tensorflow as tf\n",
        "import numpy as np\n",
        "from tensorflow.keras.layers import Dense\n",
        "import matplotlib.pyplot as plt"
      ]
    },
    {
      "cell_type": "code",
      "source": [
        "( train_ds , test_ds ) , ds_info = tfds.load('mnist', split =[ 'train', 'test'], as_supervised = True , with_info = True )\n",
        "print(ds_info)"
      ],
      "metadata": {
        "colab": {
          "base_uri": "https://localhost:8080/",
          "height": 607,
          "referenced_widgets": [
            "9e397866e3f34fc9b51a7d7b16142625",
            "1f92025ba9c548779192fe747fb954bd",
            "17df0f9b31ac4b47a2be7628ccd7e157",
            "93759c9b9145428396a7ed7dc4186a84",
            "5d53fc6859be419b81b42baecff5e058",
            "88320c9d666c43e3a4cdf9b659b195e2",
            "5f88544f85a24af7811c4eca856da65b",
            "475d1b2f9e2a4657ace8b1b82175691b",
            "8e0b8241fd4f43b0896d0c22c36367be",
            "fdd757d4dee14ec38a9deef654ce0255",
            "274c75fb5c38455c89be3765fc42da7d"
          ]
        },
        "id": "QYa1EBGTNegE",
        "outputId": "c6b68492-d94f-41bd-ba20-778000e3d342"
      },
      "execution_count": null,
      "outputs": [
        {
          "output_type": "stream",
          "name": "stdout",
          "text": [
            "Downloading and preparing dataset 11.06 MiB (download: 11.06 MiB, generated: 21.00 MiB, total: 32.06 MiB) to /root/tensorflow_datasets/mnist/3.0.1...\n"
          ]
        },
        {
          "output_type": "display_data",
          "data": {
            "text/plain": [
              "Dl Completed...:   0%|          | 0/5 [00:00<?, ? file/s]"
            ],
            "application/vnd.jupyter.widget-view+json": {
              "version_major": 2,
              "version_minor": 0,
              "model_id": "9e397866e3f34fc9b51a7d7b16142625"
            }
          },
          "metadata": {}
        },
        {
          "output_type": "stream",
          "name": "stdout",
          "text": [
            "Dataset mnist downloaded and prepared to /root/tensorflow_datasets/mnist/3.0.1. Subsequent calls will reuse this data.\n",
            "tfds.core.DatasetInfo(\n",
            "    name='mnist',\n",
            "    full_name='mnist/3.0.1',\n",
            "    description=\"\"\"\n",
            "    The MNIST database of handwritten digits.\n",
            "    \"\"\",\n",
            "    homepage='http://yann.lecun.com/exdb/mnist/',\n",
            "    data_dir='/root/tensorflow_datasets/mnist/3.0.1.incompleteMC4DY5',\n",
            "    file_format=tfrecord,\n",
            "    download_size=11.06 MiB,\n",
            "    dataset_size=21.00 MiB,\n",
            "    features=FeaturesDict({\n",
            "        'image': Image(shape=(28, 28, 1), dtype=uint8),\n",
            "        'label': ClassLabel(shape=(), dtype=int64, num_classes=10),\n",
            "    }),\n",
            "    supervised_keys=('image', 'label'),\n",
            "    disable_shuffling=False,\n",
            "    splits={\n",
            "        'test': <SplitInfo num_examples=10000, num_shards=1>,\n",
            "        'train': <SplitInfo num_examples=60000, num_shards=1>,\n",
            "    },\n",
            "    citation=\"\"\"@article{lecun2010mnist,\n",
            "      title={MNIST handwritten digit database},\n",
            "      author={LeCun, Yann and Cortes, Corinna and Burges, CJ},\n",
            "      journal={ATT Labs [Online]. Available: http://yann.lecun.com/exdb/mnist},\n",
            "      volume={2},\n",
            "      year={2010}\n",
            "    }\"\"\",\n",
            ")\n"
          ]
        }
      ]
    },
    {
      "cell_type": "markdown",
      "source": [
        "**How many training/test images are there?**\n",
        "* 10000 test and 60000 train images  \n",
        "\n",
        "**What’s the image shape?**  \n",
        "* (28,28,1)\n",
        "\n",
        "**What range are pixel values in?**\n",
        "* 0-255"
      ],
      "metadata": {
        "id": "HFMHhrL5NKuR"
      }
    },
    {
      "cell_type": "code",
      "source": [
        "tfds.show_examples(train_ds , ds_info)"
      ],
      "metadata": {
        "colab": {
          "base_uri": "https://localhost:8080/",
          "height": 1000
        },
        "id": "XZgyQLIEOtia",
        "outputId": "5a452e1a-688a-4845-f597-420a0cbecc43"
      },
      "execution_count": null,
      "outputs": [
        {
          "output_type": "display_data",
          "data": {
            "text/plain": [
              "<Figure size 900x900 with 9 Axes>"
            ],
            "image/png": "[encoded data removed]"
          },
          "metadata": {}
        },
        {
          "output_type": "execute_result",
          "data": {
            "text/plain": [
              "<Figure size 900x900 with 9 Axes>"
            ],
            "image/png": "[encoded data removed]"
          },
          "metadata": {},
          "execution_count": 3
        }
      ]
    },
    {
      "cell_type": "markdown",
      "source": [
        "## **2.2 Setting up the data pipeline**"
      ],
      "metadata": {
        "id": "w63JkzJlPGFd"
      }
    },
    {
      "cell_type": "code",
      "source": [
        "def data_prep(data):\n",
        "  # batch_size = 32\n",
        "  batch_size = 16\n",
        "  shuffle_size = 1000\n",
        "  prefetch_size = 20\n",
        "  # take a dictionary and pass image and label on\n",
        "  #data = data.map(lambda feature_dict: (feature_dict['image'], feature_dict['label']))\n",
        "  # reshape images\n",
        "  data = data.map(lambda image, label: (tf.reshape(image, (-1,)), label))\n",
        "  # scale down respective pixels to range 127 & cast to float\n",
        "  data = data.map(lambda image, label: ((tf.cast(image, tf.float32)/128)-1, label))\n",
        "  # one hotify the labels\n",
        "  data = data.map(lambda image, label: (image, tf.one_hot(label, depth=10)))\n",
        "  # shuffle data and then batch of the suffled data\n",
        "  data = data.shuffle(shuffle_size).batch(batch_size)\n",
        "  # prefetch function, makes sure prefetch_size batches are always ready\n",
        "  data = data.prefetch(prefetch_size)\n",
        "\n",
        "  return data"
      ],
      "metadata": {
        "id": "VVCkf24cO0qq"
      },
      "execution_count": null,
      "outputs": []
    },
    {
      "cell_type": "markdown",
      "source": [
        "## **2.3 Building a deep neural network with TensorFlow**"
      ],
      "metadata": {
        "id": "xN-8vwwCRJtp"
      }
    },
    {
      "cell_type": "code",
      "source": [
        "class MNIST_Model(tf.keras.Model):\n",
        "\n",
        "  def __init__(self, layer_sizes, output_size=10):\n",
        "    super().__init__()\n",
        "    self.mlp_layers = []\n",
        "    # create layers\n",
        "    for layer_size in layer_sizes:\n",
        "        new_layer = tf.keras.layers.Dense(units=layer_size, activation='relu')\n",
        "        self.mlp_layers.append(new_layer)\n",
        "    # output layer\n",
        "    self.output_layer = tf.keras.layers.Dense(units=output_size, activation='softmax')\n",
        "\n",
        "\n",
        "  def call(self, x):\n",
        "    for layer in self.mlp_layers:\n",
        "      x = layer(x)\n",
        "    y = self.output_layer(x)\n",
        "    return y"
      ],
      "metadata": {
        "id": "iw70FH7lRJQq"
      },
      "execution_count": null,
      "outputs": []
    },
    {
      "cell_type": "markdown",
      "source": [
        "## **2.4 Training the network**"
      ],
      "metadata": {
        "id": "-KVLNfwFScae"
      }
    },
    {
      "cell_type": "code",
      "source": [
        "def train_loop(model, train_ds, test_ds, loss_func, optimizer, num_epochs=10):\n",
        "\n",
        "  train_losses = []\n",
        "  train_accuracies = []\n",
        "  test_losses = []\n",
        "  test_accuracies = []\n",
        "\n",
        "  for epoch in range(num_epochs):\n",
        "\n",
        "\n",
        "    #training\n",
        "    epoch_losses = []\n",
        "    epoch_accuracies = []\n",
        "    for input,target in train_ds:\n",
        "        loss, accuracy = train_step(model, input, target, loss_func, optimizer)\n",
        "        epoch_losses.append(loss)\n",
        "        epoch_accuracies.append(accuracy)\n",
        "\n",
        "    #track training loss and accuracies\n",
        "    train_losses.append(tf.reduce_mean(epoch_losses))\n",
        "    train_accuracies.append(tf.reduce_mean(epoch_accuracies))\n",
        "\n",
        "    #testing, so we can track accuracy and test loss\n",
        "    test_loss, test_accuracy = test_loop(model, test_ds, loss_func)\n",
        "    test_losses.append(test_loss)\n",
        "    test_accuracies.append(test_accuracy)\n",
        "\n",
        "    print(f' After epoch {str(epoch+1)} the accuracy is: {test_accuracies[-1]}')\n",
        "\n",
        "  return train_losses, train_accuracies, test_losses, test_accuracies\n",
        "\n",
        "def train_step(model, input, target, loss_function, optimizer):\n",
        "\n",
        "  with tf.GradientTape() as tape:\n",
        "    prediction = model(input)\n",
        "    loss = loss_function(target, prediction)\n",
        "    accuracy = np.argmax(target, axis=1) == np.argmax(prediction, axis=1)\n",
        "    accuracy = np.mean(accuracy)\n",
        "\n",
        "  gradients = tape.gradient(loss, model.trainable_variables)\n",
        "  optimizer.apply_gradients(zip(gradients, model.trainable_variables))\n",
        "\n",
        "  return loss, accuracy\n",
        "\n",
        "def test_loop(model, test_ds, loss_func):\n",
        "  test_accuracy_agg = []\n",
        "  test_loss_agg = []\n",
        "\n",
        "  for (input, target) in test_ds:\n",
        "    prediction = model(input)\n",
        "    sample_test_loss = loss_func(target, prediction)\n",
        "    # sample_test_accuracy hat boolean pro sample in batch (länge ist also wie batch size)\n",
        "    sample_test_accuracy =  np.argmax(target, axis=1) == np.argmax(prediction, axis=1)\n",
        "    # mean accuracy for the batch\n",
        "    sample_test_accuracy = np.mean(sample_test_accuracy)\n",
        "    test_loss_agg.append(sample_test_loss.numpy())\n",
        "    test_accuracy_agg.append(sample_test_accuracy)\n",
        "\n",
        "\n",
        "  test_loss = tf.reduce_mean(test_loss_agg)\n",
        "  test_accuracy = tf.reduce_mean(test_accuracy_agg)\n",
        "\n",
        "  return test_loss, test_accuracy\n"
      ],
      "metadata": {
        "id": "ELsaXJ4_Sczd"
      },
      "execution_count": null,
      "outputs": []
    },
    {
      "cell_type": "markdown",
      "source": [
        "## **2.5 Visualization**"
      ],
      "metadata": {
        "id": "g9P1plgmgupA"
      }
    },
    {
      "cell_type": "code",
      "source": [
        "def visualization( train_losses , train_accuracies , test_losses , test_accuracies):\n",
        "\n",
        "  xaxis = np.linspace(start=1, stop=len(train_losses), num=len(train_losses))\n",
        "\n",
        "  # Plot the Loss\n",
        "  plt.plot(xaxis, train_losses, color=\"red\", label=\"Train\")\n",
        "  plt.plot(xaxis, test_losses, color=\"blue\", label=\"Test\")\n",
        "  plt.title(\"Train vs. Test Loss\")\n",
        "  plt.legend()\n",
        "  plt.xlabel(\"Epochs\")\n",
        "  plt.ylabel(\"Loss\")\n",
        "  plt.show()\n",
        "\n",
        "  # Plot the Accuracy\n",
        "  plt.plot(xaxis, train_accuracies, color=\"red\", label=\"Train\")\n",
        "  plt.plot(xaxis, test_accuracies, color=\"blue\", label=\"Test\")\n",
        "  plt.title(\"Train vs. Test Accuracy\")\n",
        "  plt.legend()\n",
        "  plt.xlabel(\"Epochs\")\n",
        "  plt.ylabel(\"Accuracy\")\n",
        "  plt.show()"
      ],
      "metadata": {
        "id": "vHtS7UnKd6e4"
      },
      "execution_count": null,
      "outputs": []
    },
    {
      "cell_type": "markdown",
      "source": [
        "## **3 Adjusting the hyperparameters of your model**  \n",
        "\n",
        "- learning rate  \n",
        "- batch size  \n",
        "- the number of layers  \n",
        "- size of layers   \n",
        "- optimizer"
      ],
      "metadata": {
        "id": "ti8MuxYRCXkz"
      }
    },
    {
      "cell_type": "markdown",
      "source": [
        "### **Base Configuration of Model:**\n",
        "- learning rate: 0.001   \n",
        "- batch size: 32  \n",
        "- number of layers (not counting output layer): 2  \n",
        "- size of layers: 256, 256\n",
        "- optimizer: SGD (stochastic gradient descent)  \n",
        "- epochs: 20\n",
        "- loss function: Categorical cross entropy loss  \n",
        "#### Results:\n",
        "- Accuracy obtained: 0.943  \n",
        "\n",
        "### **Change only learning rate to higher value:**    \n",
        "- learning rate: 0.01   \n",
        "- batch size: 32  \n",
        "- number of layers (not counting output layer): 2  \n",
        "- size of layers: 256, 256\n",
        "- optimizer: SGD (stochastic gradient descent)  \n",
        "- epochs: 20\n",
        "- loss function: Categorical cross entropy loss  \n",
        "#### Results:\n",
        "- Accuracy obtained: 0.979\n",
        "- plots for loss and accuracy show some overfitting\n",
        "- pretty high accuracy for only changing the learning rate\n",
        "- in this case it seems the lower learning rate made the newtork be stuck at a local optimum\n",
        "- accuracy was at 0.97 already after epoch 9, so a smaller epoch number for faster training could also make sense  \n",
        "\n",
        "### **Change only optimizer from SGD to Adam:**    \n",
        "- learning rate: 0.001   \n",
        "- batch size: 32  \n",
        "- number of layers (not counting output layer): 2  \n",
        "- size of layers: 256, 256\n",
        "- optimizer: Adam (Adaptive Moment Estimation)\n",
        "- epochs: 20\n",
        "- loss function: Categorical cross entropy loss  \n",
        "#### Results:  \n",
        "- stronger overfitting\n",
        "- starting out with hightest accuracy yet but being stuck more or less at same accuracy\n",
        "- accuracy ranging 0.957 - 0.977  \n",
        "\n",
        "### **Change optimizer from SGD to Adam and learning rate:**    \n",
        "- learning rate: 0.01   \n",
        "- batch size: 32  \n",
        "- number of layers (not counting output layer): 2  \n",
        "- size of layers: 256, 256\n",
        "- optimizer: Adam (Adaptive Moment Estimation)\n",
        "- epochs: 20\n",
        "- loss function: Categorical cross entropy loss  \n",
        "#### Results:  \n",
        "- accuracy starting at 0.91 going to only 0.92/0.93\n",
        "- stronger fluctuations in test accuracy and loss\n",
        "- too high learning rate for that specific optimizer maybe  \n",
        "\n",
        "### **Change optimizer from SGD to Adam and layer number and size:**    \n",
        "- learning rate: 0.001   \n",
        "- batch size: 32  \n",
        "- number of layers (not counting output layer): 4   \n",
        "- size of layers: 256, 256, 400, 200\n",
        "- optimizer: Adam (Adaptive Moment Estimation)\n",
        "- epochs: 20\n",
        "- loss function: Categorical cross entropy loss  \n",
        "#### Results:  \n",
        "- accuracy of about 0.97 again\n",
        "- fluctuations\n",
        "- accuracy starting at 0.94 already after first epoch  \n",
        "\n",
        "### **Change layer number and learning rate:**    \n",
        "- learning rate: 0.01   \n",
        "- batch size: 32  \n",
        "- number of layers (not counting output layer): 4   \n",
        "- size of layers: 256, 256, 256, 256\n",
        "- optimizer: SGD\n",
        "- epochs: 20\n",
        "- loss function: Categorical cross entropy loss  \n",
        "#### Results:  \n",
        "- some overfitting\n",
        "- accuracy of about 0.974 at the end of training  \n",
        "\n",
        "### **Change layer number and learning rate and batch size:**    \n",
        "- learning rate: 0.01   \n",
        "- batch size: 16  \n",
        "- number of layers (not counting output layer): 4   \n",
        "- size of layers: 256, 256, 256, 256\n",
        "- optimizer: SGD\n",
        "- epochs: 20\n",
        "- loss function: Categorical cross entropy loss  \n",
        "#### Results:\n",
        "- longest training yet\n",
        "- accuracy of 0.98 reached\n"
      ],
      "metadata": {
        "id": "AGyqXr3XC9S4"
      }
    },
    {
      "cell_type": "code",
      "source": [
        "# main\n",
        "train_ds, test_ds = tfds.load('mnist', split =['train', 'test'], as_supervised = True)\n",
        "\n",
        "# data\n",
        "train_data = train_ds.apply(data_prep)\n",
        "test_data = test_ds.apply(data_prep)"
      ],
      "metadata": {
        "id": "SLUBOfn9g0Zk"
      },
      "execution_count": null,
      "outputs": []
    },
    {
      "cell_type": "code",
      "source": [
        "# model\n",
        "layer_sizes = [256,256, 256, 256]\n",
        "mnistModel = MNIST_Model(layer_sizes)\n",
        "\n",
        "# training\n",
        "loss_func = tf.keras.losses.CategoricalCrossentropy()\n",
        "learning_rate = 0.01\n",
        "optimizer = tf.keras.optimizers.SGD(learning_rate)\n",
        "#optimizer = tf.keras.optimizers.Adam(learning_rate)\n",
        "num_epochs = 20\n",
        "train_losses, train_accuracies, test_losses, test_accuracies = train_loop(mnistModel, train_data, test_data, loss_func, optimizer, num_epochs)"
      ],
      "metadata": {
        "colab": {
          "base_uri": "https://localhost:8080/"
        },
        "id": "KYgc2uiRnBRy",
        "outputId": "a14ab4d2-896a-4448-dc6d-6cf1c3e9aaaf"
      },
      "execution_count": null,
      "outputs": [
        {
          "output_type": "stream",
          "name": "stdout",
          "text": [
            " After epoch 1 the accuracy is: 0.9483\n",
            " After epoch 2 the accuracy is: 0.9597\n",
            " After epoch 3 the accuracy is: 0.9653\n",
            " After epoch 4 the accuracy is: 0.974\n",
            " After epoch 5 the accuracy is: 0.9721\n",
            " After epoch 6 the accuracy is: 0.9743\n",
            " After epoch 7 the accuracy is: 0.9756\n",
            " After epoch 8 the accuracy is: 0.9765\n",
            " After epoch 9 the accuracy is: 0.9784\n",
            " After epoch 10 the accuracy is: 0.9771\n",
            " After epoch 11 the accuracy is: 0.9756\n",
            " After epoch 12 the accuracy is: 0.9806\n",
            " After epoch 13 the accuracy is: 0.9788\n",
            " After epoch 14 the accuracy is: 0.9796\n",
            " After epoch 15 the accuracy is: 0.9809\n",
            " After epoch 16 the accuracy is: 0.9795\n",
            " After epoch 17 the accuracy is: 0.9788\n",
            " After epoch 18 the accuracy is: 0.98\n",
            " After epoch 19 the accuracy is: 0.9781\n",
            " After epoch 20 the accuracy is: 0.9817\n"
          ]
        }
      ]
    },
    {
      "cell_type": "code",
      "source": [
        "visualization(train_losses, train_accuracies, test_losses, test_accuracies)"
      ],
      "metadata": {
        "id": "FmG_9pWOeJli",
        "colab": {
          "base_uri": "https://localhost:8080/",
          "height": 927
        },
        "outputId": "f2f16785-741d-4f2f-d503-47c557329cde"
      },
      "execution_count": null,
      "outputs": [
        {
          "output_type": "display_data",
          "data": {
            "text/plain": [
              "<Figure size 640x480 with 1 Axes>"
            ],
            "image/png": "[encoded data removed]"
          },
          "metadata": {}
        },
        {
          "output_type": "display_data",
          "data": {
            "text/plain": [
              "<Figure size 640x480 with 1 Axes>"
            ],
            "image/png": "[encoded data removed]"
          },
          "metadata": {}
        }
      ]
    },
    {
      "cell_type": "code",
      "source": [],
      "metadata": {
        "id": "SUi40rqo862U"
      },
      "execution_count": null,
      "outputs": []
    }
  ]
}